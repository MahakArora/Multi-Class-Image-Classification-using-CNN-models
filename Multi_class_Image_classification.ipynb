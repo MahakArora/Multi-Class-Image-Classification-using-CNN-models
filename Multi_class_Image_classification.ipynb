{
  "cells": [
    {
      "cell_type": "markdown",
      "metadata": {
        "id": "nHLdQD2As7ZI"
      },
      "source": [
        "# MULTI CLASS IMAGE CLASSIFICTION"
      ]
    },
    {
      "cell_type": "code",
      "execution_count": null,
      "metadata": {
        "id": "d9tDb08TIy-L"
      },
      "outputs": [],
      "source": [
        "import tensorflow as tf\n",
        "from keras.applications import MobileNetV2\n",
        "from keras.datasets import cifar10\n",
        "from keras.models import Sequential\n",
        "from keras.layers import Flatten, Dense\n",
        "from keras.optimizers import Adam\n",
        "from keras.utils import to_categorical"
      ]
    },
    {
      "cell_type": "code",
      "execution_count": null,
      "metadata": {
        "id": "KD8yCNTCLSvI",
        "colab": {
          "base_uri": "https://localhost:8080/"
        },
        "outputId": "32bdc389-c54b-42ef-88c3-e1bb399082ba"
      },
      "outputs": [
        {
          "output_type": "stream",
          "name": "stdout",
          "text": [
            "Downloading data from https://www.cs.toronto.edu/~kriz/cifar-10-python.tar.gz\n",
            "170498071/170498071 [==============================] - 5s 0us/step\n"
          ]
        }
      ],
      "source": [
        "(train_images, train_labels), (test_images, test_labels) = cifar10.load_data()\n",
        "\n",
        "train_images = train_images / 255.0\n",
        "test_images = test_images / 255.0\n",
        "\n",
        "# train_labels = to_categorical(train_labels, num_classes=10)\n",
        "# test_labels = to_categorical(test_labels, num_classes=10)"
      ]
    },
    {
      "cell_type": "code",
      "execution_count": null,
      "metadata": {
        "colab": {
          "base_uri": "https://localhost:8080/"
        },
        "id": "iRYMtxaoX96k",
        "outputId": "db0c607b-b631-4459-a05f-f6184cebb30d"
      },
      "outputs": [
        {
          "name": "stdout",
          "output_type": "stream",
          "text": [
            "Training data size 50000 with 5000 of each class\n",
            "Test data size 10000 with 1000 of each class\n"
          ]
        }
      ],
      "source": [
        "print(\"Training data size\",len(train_labels), \"with 5000 of each class\")\n",
        "print(\"Test data size\",len(test_labels),\"with 1000 of each class\")"
      ]
    },
    {
      "cell_type": "code",
      "execution_count": null,
      "metadata": {
        "colab": {
          "base_uri": "https://localhost:8080/"
        },
        "id": "a-ledYyeLezp",
        "outputId": "d171b058-6861-4c6e-f334-164ec073c139"
      },
      "outputs": [
        {
          "name": "stderr",
          "output_type": "stream",
          "text": [
            "WARNING:tensorflow:`input_shape` is undefined or non-square, or `rows` is not in [96, 128, 160, 192, 224]. Weights for input shape (224, 224) will be loaded as the default.\n"
          ]
        },
        {
          "name": "stdout",
          "output_type": "stream",
          "text": [
            "Downloading data from https://storage.googleapis.com/tensorflow/keras-applications/mobilenet_v2/mobilenet_v2_weights_tf_dim_ordering_tf_kernels_1.0_224_no_top.h5\n",
            "9406464/9406464 [==============================] - 1s 0us/step\n"
          ]
        }
      ],
      "source": [
        "base_model = MobileNetV2(weights='imagenet', include_top=False, input_shape=(32, 32, 3))\n"
      ]
    },
    {
      "cell_type": "code",
      "execution_count": null,
      "metadata": {
        "colab": {
          "base_uri": "https://localhost:8080/"
        },
        "id": "Q0pJXRF3MOBo",
        "outputId": "27754b8e-222d-4e6b-b928-e01fd2e94094"
      },
      "outputs": [
        {
          "name": "stdout",
          "output_type": "stream",
          "text": [
            "Epoch 1/5\n",
            "1563/1563 [==============================] - 343s 208ms/step - loss: 1.2917 - accuracy: 0.5606 - val_loss: 1.4595 - val_accuracy: 0.5122\n",
            "Epoch 2/5\n",
            "1563/1563 [==============================] - 346s 221ms/step - loss: 0.9784 - accuracy: 0.6723 - val_loss: 1.1687 - val_accuracy: 0.6672\n",
            "Epoch 3/5\n",
            "1563/1563 [==============================] - 323s 206ms/step - loss: 0.9408 - accuracy: 0.6818 - val_loss: 1.5601 - val_accuracy: 0.5467\n",
            "Epoch 4/5\n",
            "1563/1563 [==============================] - 317s 203ms/step - loss: 0.8842 - accuracy: 0.6990 - val_loss: 2.1716 - val_accuracy: 0.3180\n",
            "Epoch 5/5\n",
            "1563/1563 [==============================] - 339s 217ms/step - loss: 0.8651 - accuracy: 0.7098 - val_loss: 1.0049 - val_accuracy: 0.6975\n"
          ]
        },
        {
          "data": {
            "text/plain": [
              "<keras.src.callbacks.History at 0x7a4de453b850>"
            ]
          },
          "execution_count": 5,
          "metadata": {},
          "output_type": "execute_result"
        }
      ],
      "source": [
        "model = Sequential()\n",
        "model.add(base_model)\n",
        "model.add(Flatten())\n",
        "model.add(Dense(256, activation='relu'))\n",
        "model.add(Dense(10, activation='softmax'))\n",
        "\n",
        "model.compile(optimizer=Adam(), loss='categorical_crossentropy', metrics=['accuracy'])\n",
        "\n",
        "model.fit(train_images, train_labels, epochs=5, validation_data=(test_images, test_labels))"
      ]
    },
    {
      "cell_type": "code",
      "execution_count": null,
      "metadata": {
        "colab": {
          "base_uri": "https://localhost:8080/"
        },
        "id": "fQL_j-DfWbW7",
        "outputId": "a547b996-a276-4cb0-9ae4-773f5b643d78"
      },
      "outputs": [
        {
          "name": "stdout",
          "output_type": "stream",
          "text": [
            "Model: \"sequential_1\"\n",
            "_________________________________________________________________\n",
            " Layer (type)                Output Shape              Param #   \n",
            "=================================================================\n",
            " mobilenetv2_1.00_224 (Func  (None, 1, 1, 1280)        2257984   \n",
            " tional)                                                         \n",
            "                                                                 \n",
            " flatten_1 (Flatten)         (None, 1280)              0         \n",
            "                                                                 \n",
            " dense_2 (Dense)             (None, 256)               327936    \n",
            "                                                                 \n",
            " dense_3 (Dense)             (None, 10)                2570      \n",
            "                                                                 \n",
            "=================================================================\n",
            "Total params: 2588490 (9.87 MB)\n",
            "Trainable params: 2554378 (9.74 MB)\n",
            "Non-trainable params: 34112 (133.25 KB)\n",
            "_________________________________________________________________\n"
          ]
        }
      ],
      "source": [
        "model.summary()"
      ]
    },
    {
      "cell_type": "code",
      "execution_count": null,
      "metadata": {
        "id": "_QhL5O5vMVQT"
      },
      "outputs": [],
      "source": [
        "model.save('mobileNetV2.keras')"
      ]
    },
    {
      "cell_type": "code",
      "execution_count": null,
      "metadata": {
        "id": "FOXvYyLDhLor",
        "colab": {
          "base_uri": "https://localhost:8080/"
        },
        "outputId": "5c86c739-8cfc-43c4-83ba-b3d005190093"
      },
      "outputs": [
        {
          "output_type": "stream",
          "name": "stdout",
          "text": [
            "Downloading data from https://storage.googleapis.com/tensorflow/keras-applications/densenet/densenet121_weights_tf_dim_ordering_tf_kernels_notop.h5\n",
            "29084464/29084464 [==============================] - 0s 0us/step\n"
          ]
        }
      ],
      "source": [
        "from tensorflow.keras.applications import DenseNet121\n",
        "from tensorflow.keras.layers import Dense, GlobalAveragePooling2D\n",
        "\n",
        "base_model = DenseNet121(weights='imagenet', include_top=False, input_shape=(32, 32, 3))\n",
        "\n",
        "model = Sequential()\n",
        "model.add(base_model)\n",
        "model.add(GlobalAveragePooling2D())\n",
        "model.add(Dense(256, activation='relu'))\n",
        "model.add(Dense(10, activation='softmax'))\n",
        "\n",
        "model.compile(optimizer=Adam(), loss='categorical_crossentropy', metrics=['accuracy'])\n"
      ]
    },
    {
      "cell_type": "code",
      "source": [
        "model.summary()"
      ],
      "metadata": {
        "colab": {
          "base_uri": "https://localhost:8080/"
        },
        "id": "lXfEo9Eh5TZ1",
        "outputId": "7b77b4ac-c066-4c49-b7a8-83a4fd7df457"
      },
      "execution_count": null,
      "outputs": [
        {
          "output_type": "stream",
          "name": "stdout",
          "text": [
            "Model: \"sequential\"\n",
            "_________________________________________________________________\n",
            " Layer (type)                Output Shape              Param #   \n",
            "=================================================================\n",
            " densenet121 (Functional)    (None, 1, 1, 1024)        7037504   \n",
            "                                                                 \n",
            " global_average_pooling2d (G  (None, 1024)             0         \n",
            " lobalAveragePooling2D)                                          \n",
            "                                                                 \n",
            " dense (Dense)               (None, 256)               262400    \n",
            "                                                                 \n",
            " dense_1 (Dense)             (None, 10)                2570      \n",
            "                                                                 \n",
            "=================================================================\n",
            "Total params: 7,302,474\n",
            "Trainable params: 7,218,826\n",
            "Non-trainable params: 83,648\n",
            "_________________________________________________________________\n"
          ]
        }
      ]
    },
    {
      "cell_type": "code",
      "source": [
        "model.fit(train_images, to_categorical(train_labels), epochs=5, validation_data=(test_images, to_categorical(test_labels)))"
      ],
      "metadata": {
        "colab": {
          "base_uri": "https://localhost:8080/"
        },
        "id": "6wpWO3Sx5n_e",
        "outputId": "90a95803-b772-400b-c799-5d4ec04a01c2"
      },
      "execution_count": null,
      "outputs": [
        {
          "output_type": "stream",
          "name": "stdout",
          "text": [
            "Epoch 1/5\n",
            "1563/1563 [==============================] - 1104s 697ms/step - loss: 1.1613 - accuracy: 0.6000 - val_loss: 1.5193 - val_accuracy: 0.5220\n",
            "Epoch 2/5\n",
            "1563/1563 [==============================] - 1060s 678ms/step - loss: 1.0046 - accuracy: 0.6521 - val_loss: 4.3186 - val_accuracy: 0.2901\n",
            "Epoch 3/5\n",
            "1563/1563 [==============================] - 1052s 673ms/step - loss: 0.9023 - accuracy: 0.6900 - val_loss: 1.3615 - val_accuracy: 0.5634\n",
            "Epoch 4/5\n",
            "1563/1563 [==============================] - 1071s 685ms/step - loss: 0.8721 - accuracy: 0.6974 - val_loss: 4.4227 - val_accuracy: 0.5267\n",
            "Epoch 5/5\n",
            "1563/1563 [==============================] - 1075s 688ms/step - loss: 1.1671 - accuracy: 0.5888 - val_loss: 1.0078 - val_accuracy: 0.6422\n"
          ]
        },
        {
          "output_type": "execute_result",
          "data": {
            "text/plain": [
              "<keras.callbacks.History at 0x7fd108243f70>"
            ]
          },
          "metadata": {},
          "execution_count": 5
        }
      ]
    },
    {
      "cell_type": "code",
      "source": [
        "model.save('denseNetV2.keras')"
      ],
      "metadata": {
        "id": "LRW0lOJhC4Fk"
      },
      "execution_count": null,
      "outputs": []
    },
    {
      "cell_type": "code",
      "execution_count": null,
      "metadata": {
        "id": "Ag4UdJkfXYf3"
      },
      "outputs": [],
      "source": [
        "model1 = tf.keras.models.load_model('multi_class_model.keras')\n",
        "model2 = tf.keras.models.load_model('mobileNetV2.keras')\n",
        "model3 = tf.keras.models.load_model('denseNetV2.keras')"
      ]
    },
    {
      "cell_type": "code",
      "execution_count": null,
      "metadata": {
        "colab": {
          "base_uri": "https://localhost:8080/"
        },
        "id": "_zGyNPO7enQd",
        "outputId": "4e023365-a44e-4620-b0ee-0c20f9d35597"
      },
      "outputs": [
        {
          "name": "stdout",
          "output_type": "stream",
          "text": [
            "Model: \"sequential\"\n",
            "_________________________________________________________________\n",
            " Layer (type)                Output Shape              Param #   \n",
            "=================================================================\n",
            " conv2d (Conv2D)             (None, 30, 30, 32)        896       \n",
            "                                                                 \n",
            " max_pooling2d (MaxPooling2  (None, 15, 15, 32)        0         \n",
            " D)                                                              \n",
            "                                                                 \n",
            " conv2d_1 (Conv2D)           (None, 13, 13, 64)        18496     \n",
            "                                                                 \n",
            " max_pooling2d_1 (MaxPoolin  (None, 6, 6, 64)          0         \n",
            " g2D)                                                            \n",
            "                                                                 \n",
            " flatten (Flatten)           (None, 2304)              0         \n",
            "                                                                 \n",
            " dense (Dense)               (None, 64)                147520    \n",
            "                                                                 \n",
            " dense_1 (Dense)             (None, 10)                650       \n",
            "                                                                 \n",
            "=================================================================\n",
            "Total params: 167562 (654.54 KB)\n",
            "Trainable params: 167562 (654.54 KB)\n",
            "Non-trainable params: 0 (0.00 Byte)\n",
            "_________________________________________________________________\n"
          ]
        }
      ],
      "source": [
        "model1.summary()"
      ]
    },
    {
      "cell_type": "code",
      "execution_count": null,
      "metadata": {
        "colab": {
          "base_uri": "https://localhost:8080/"
        },
        "id": "tW3y0lyoSc6D",
        "outputId": "0d88a939-a0a7-4122-a985-76182dd90985"
      },
      "outputs": [
        {
          "name": "stdout",
          "output_type": "stream",
          "text": [
            "10000/10000 [==============================] - 24s 2ms/step\n"
          ]
        }
      ],
      "source": [
        "from sklearn.metrics import confusion_matrix,classification_report\n",
        "import numpy as np\n",
        "\n",
        "predictions = model1.predict(test_images, steps=len(test_images), verbose=1)\n",
        "\n"
      ]
    },
    {
      "cell_type": "code",
      "execution_count": null,
      "metadata": {
        "colab": {
          "base_uri": "https://localhost:8080/"
        },
        "id": "tC-Lgm6hX5F-",
        "outputId": "cc8b60fe-5a74-4d48-c756-14ab5db69c79"
      },
      "outputs": [
        {
          "name": "stdout",
          "output_type": "stream",
          "text": [
            "Confusion Matrix for Model:\n",
            "[[641  12  46  33  20   7  10  15 155  61]\n",
            " [ 14 763   5  13   5   6   8   0  51 135]\n",
            " [ 59   7 572  81  87  55  63  45  20  11]\n",
            " [ 22  12  69 557  65 125  58  40  24  28]\n",
            " [ 17   7  69  72 662  28  54  75  11   5]\n",
            " [  9   3  41 214  43 581  24  53  18  14]\n",
            " [  2   6  41  81  35  15 791   7  10  12]\n",
            " [ 14   3  25  49  54  44   6 775   6  24]\n",
            " [ 36  16  13  14   5   3   3  10 868  32]\n",
            " [ 11  49   7  15   4   8   5  20  46 835]]\n"
          ]
        }
      ],
      "source": [
        "pred_classes = [np.argmax(element) for element in predictions]\n",
        "conf_matrix = confusion_matrix(test_labels, pred_classes)\n",
        "\n",
        "print(\"Confusion Matrix for Model:\")\n",
        "print(conf_matrix)"
      ]
    },
    {
      "cell_type": "code",
      "execution_count": null,
      "metadata": {
        "colab": {
          "base_uri": "https://localhost:8080/"
        },
        "id": "FQPNex4FaAhc",
        "outputId": "242a6e8c-ff19-4218-e3e3-8edb3ec47d06"
      },
      "outputs": [
        {
          "name": "stdout",
          "output_type": "stream",
          "text": [
            "10000/10000 [==============================] - 88s 9ms/step\n",
            "Confusion Matrix for Model:\n",
            "[[641  12  46  33  20   7  10  15 155  61]\n",
            " [ 14 763   5  13   5   6   8   0  51 135]\n",
            " [ 59   7 572  81  87  55  63  45  20  11]\n",
            " [ 22  12  69 557  65 125  58  40  24  28]\n",
            " [ 17   7  69  72 662  28  54  75  11   5]\n",
            " [  9   3  41 214  43 581  24  53  18  14]\n",
            " [  2   6  41  81  35  15 791   7  10  12]\n",
            " [ 14   3  25  49  54  44   6 775   6  24]\n",
            " [ 36  16  13  14   5   3   3  10 868  32]\n",
            " [ 11  49   7  15   4   8   5  20  46 835]]\n"
          ]
        }
      ],
      "source": [
        "predictions2=model2.predict(test_images, steps=len(test_images), verbose=1)\n",
        "pred_classes = [np.argmax(element) for element in predictions]\n",
        "\n",
        "conf_matrix = confusion_matrix(test_labels, pred_classes)\n",
        "\n",
        "print(\"Confusion Matrix for Model:\")\n",
        "print(conf_matrix)"
      ]
    },
    {
      "cell_type": "code",
      "execution_count": null,
      "metadata": {
        "colab": {
          "base_uri": "https://localhost:8080/"
        },
        "id": "pI-zOsOvZu96",
        "outputId": "5c6bf8cd-99ad-4e6f-d57e-eece3c4f8954"
      },
      "outputs": [
        {
          "name": "stdout",
          "output_type": "stream",
          "text": [
            "              precision    recall  f1-score   support\n",
            "\n",
            "    airplane       0.78      0.64      0.70      1000\n",
            "  automobile       0.87      0.76      0.81      1000\n",
            "        bird       0.64      0.57      0.61      1000\n",
            "         cat       0.49      0.56      0.52      1000\n",
            "        deer       0.68      0.66      0.67      1000\n",
            "         dog       0.67      0.58      0.62      1000\n",
            "        frog       0.77      0.79      0.78      1000\n",
            "       horse       0.75      0.78      0.76      1000\n",
            "        ship       0.72      0.87      0.79      1000\n",
            "       truck       0.72      0.83      0.77      1000\n",
            "\n",
            "    accuracy                           0.70     10000\n",
            "   macro avg       0.71      0.70      0.70     10000\n",
            "weighted avg       0.71      0.70      0.70     10000\n",
            "\n"
          ]
        }
      ],
      "source": [
        "\n",
        "from sklearn.metrics import confusion_matrix,classification_report\n",
        "\n",
        "flat_confusion_matrix = [item for sublist in conf_matrix for item in sublist]\n",
        "\n",
        "target_names = [\"airplane\",\"automobile\",\"bird\",\"cat\",\"deer\",\"dog\",\"frog\",\"horse\",\"ship\",\"truck\"]\n",
        "\n",
        "report = classification_report(test_labels, pred_classes, target_names=target_names)\n",
        "\n",
        "print(report)"
      ]
    },
    {
      "cell_type": "code",
      "source": [
        "predictions2=model3.predict(test_images, steps=len(test_images), verbose=1)\n",
        "pred_classes = [np.argmax(element) for element in predictions2]\n",
        "\n",
        "conf_matrix = confusion_matrix(test_labels, pred_classes)\n",
        "\n",
        "print(\"Confusion Matrix for Model:\")\n",
        "print(conf_matrix)"
      ],
      "metadata": {
        "colab": {
          "base_uri": "https://localhost:8080/"
        },
        "id": "Fdqs4uDTDw0M",
        "outputId": "97a84c78-e26e-4e09-a94a-db49d9d0e9b5"
      },
      "execution_count": null,
      "outputs": [
        {
          "output_type": "stream",
          "name": "stdout",
          "text": [
            "Confusion Matrix for Model:\n",
            "[[710  14  33  14  56  20  37  10  67  39]\n",
            " [ 37 735   3   3   4   7  30   2  35 144]\n",
            " [ 90   2 340  46 195  68 193  43   7  16]\n",
            " [ 29   8  26 416 158  57 216  46  15  29]\n",
            " [ 23   2  12  15 752  10 139  36   7   4]\n",
            " [ 13  13  46 219 138 330 118  99  10  14]\n",
            " [  7   1  15  27  35   3 894   8   5   5]\n",
            " [ 20   4  16  30 126  31  38 706   2  27]\n",
            " [117  22   3  11  25   4  27   6 736  49]\n",
            " [ 41  64   6   4  20  11  17   5  29 803]]\n"
          ]
        }
      ]
    },
    {
      "cell_type": "code",
      "execution_count": null,
      "metadata": {
        "id": "4hRd_X6mdqmi",
        "colab": {
          "base_uri": "https://localhost:8080/"
        },
        "outputId": "d5ef7d1c-4480-496e-8296-a63aae989517"
      },
      "outputs": [
        {
          "output_type": "stream",
          "name": "stdout",
          "text": [
            "              precision    recall  f1-score   support\n",
            "\n",
            "    airplane       0.65      0.71      0.68      1000\n",
            "  automobile       0.85      0.73      0.79      1000\n",
            "        bird       0.68      0.34      0.45      1000\n",
            "         cat       0.53      0.42      0.47      1000\n",
            "        deer       0.50      0.75      0.60      1000\n",
            "         dog       0.61      0.33      0.43      1000\n",
            "        frog       0.52      0.89      0.66      1000\n",
            "       horse       0.73      0.71      0.72      1000\n",
            "        ship       0.81      0.74      0.77      1000\n",
            "       truck       0.71      0.80      0.75      1000\n",
            "\n",
            "    accuracy                           0.64     10000\n",
            "   macro avg       0.66      0.64      0.63     10000\n",
            "weighted avg       0.66      0.64      0.63     10000\n",
            "\n"
          ]
        }
      ],
      "source": [
        "from sklearn.metrics import confusion_matrix,classification_report\n",
        "\n",
        "flat_confusion_matrix = [item for sublist in conf_matrix for item in sublist]\n",
        "\n",
        "target_names = [\"airplane\",\"automobile\",\"bird\",\"cat\",\"deer\",\"dog\",\"frog\",\"horse\",\"ship\",\"truck\"]\n",
        "\n",
        "report = classification_report(test_labels, pred_classes, target_names=target_names)\n",
        "\n",
        "print(report)"
      ]
    },
    {
      "cell_type": "code",
      "source": [],
      "metadata": {
        "id": "wjUT1vAgGt4m"
      },
      "execution_count": null,
      "outputs": []
    }
  ],
  "metadata": {
    "accelerator": "TPU",
    "colab": {
      "provenance": []
    },
    "kernelspec": {
      "display_name": "Python 3",
      "name": "python3"
    },
    "language_info": {
      "name": "python"
    }
  },
  "nbformat": 4,
  "nbformat_minor": 0
}